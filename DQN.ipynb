{
 "cells": [
  {
   "cell_type": "code",
   "execution_count": 12,
   "metadata": {},
   "outputs": [],
   "source": [
    "from nes_py.wrappers import JoypadSpace\n",
    "import gym_tetris\n",
    "from gym_tetris.actions import SIMPLE_MOVEMENT,MOVEMENT\n",
    "import numpy as np\n",
    "import random\n",
    "import numpy as np\n",
    "from matplotlib import pyplot as plt"
   ]
  },
  {
   "cell_type": "code",
   "execution_count": 13,
   "metadata": {},
   "outputs": [],
   "source": [
    "import torch\n",
    "import torch.nn as nn\n",
    "import torch.optim as optim\n",
    "from collections import deque\n",
    "\n",
    "device = torch.device(\"cpu\")\n"
   ]
  },
  {
   "cell_type": "code",
   "execution_count": 14,
   "metadata": {},
   "outputs": [],
   "source": [
    "def statePreprocess(state):\n",
    "    #the shape of the play area is from 48 to 208 in the x direction and 96 to 176 in the y direction\n",
    "    state = state[48:208,96:176]\n",
    "    grayscale = np.dot(state[...,:3], [0.2989, 0.5870, 0.1140])\n",
    "    binary_array = grayscale.reshape(20,8,10,8).max(axis=(1,3)) > 0\n",
    "    return binary_array.astype(int)"
   ]
  },
  {
   "cell_type": "code",
   "execution_count": 15,
   "metadata": {},
   "outputs": [],
   "source": [
    "def one_hot_piece(piece):\n",
    "    # Extended mapping to include variations like 'Td', 'Ld', etc.\n",
    "    mapping = {\n",
    "    'Tu': 0,\n",
    "    'Tr': 1,\n",
    "    'Td': 2,\n",
    "    'Tl': 3,\n",
    "    'Jl': 4,\n",
    "    'Ju': 5,\n",
    "    'Jr': 6,\n",
    "    'Jd': 7,\n",
    "    'Zh': 8,\n",
    "    'Zv': 9,\n",
    "    'O': 10,\n",
    "    'Sh': 11,\n",
    "    'Sv': 12,\n",
    "    'Lr': 13,\n",
    "    'Ld': 14,\n",
    "    'Ll': 15,\n",
    "    'Lu': 16,\n",
    "    'Iv': 17,\n",
    "    'Ih': 18}\n",
    "    vector = [0] * len(mapping)\n",
    "    if piece in mapping:  # Check if the piece is recognized\n",
    "        vector[mapping[piece]] = 1\n",
    "    else:\n",
    "        print('Piece not recognized:', piece)\n",
    "    return vector"
   ]
  },
  {
   "cell_type": "code",
   "execution_count": 16,
   "metadata": {},
   "outputs": [],
   "source": [
    "env = gym_tetris.make('TetrisA-v3')\n",
    "env = JoypadSpace(env, SIMPLE_MOVEMENT)\n",
    "state = env.reset()\n",
    "##state =torch.tensor(np.array(state, copy = True), dtype=torch.float32)\n"
   ]
  },
  {
   "cell_type": "code",
   "execution_count": 17,
   "metadata": {},
   "outputs": [
    {
     "name": "stdout",
     "output_type": "stream",
     "text": [
      "Ld\n",
      "Sh\n"
     ]
    },
    {
     "data": {
      "text/plain": [
       "<matplotlib.image.AxesImage at 0x13e56b7c0>"
      ]
     },
     "execution_count": 17,
     "metadata": {},
     "output_type": "execute_result"
    },
    {
     "data": {
      "image/png": "[encoded data removed]",
      "text/plain": [
       "<Figure size 640x480 with 1 Axes>"
      ]
     },
     "metadata": {},
     "output_type": "display_data"
    }
   ],
   "source": [
    "state, reward, done, info = env.step(0)\n",
    "current_piece = info['current_piece']\n",
    "next_piece = info['next_piece']\n",
    "\n",
    "print(current_piece)\n",
    "print(next_piece)\n",
    "\n",
    "#drwaing the state\n",
    "plt.imshow(statePreprocess(state))"
   ]
  },
  {
   "cell_type": "code",
   "execution_count": 18,
   "metadata": {},
   "outputs": [],
   "source": [
    "class DQN(nn.Module):\n",
    "    def __init__(self, input_dim, output_dim):\n",
    "        super(DQN, self).__init__()\n",
    "        self.conv1 = nn.Sequential(nn.Linear(input_dim, 128), nn.ReLU())\n",
    "        self.conv2 = nn.Sequential(nn.Linear(128, 128), nn.ReLU())\n",
    "        self.conv3 = nn.Sequential(nn.Linear(128, 128), nn.ReLU())\n",
    "        self.fc = nn.Linear(128, output_dim)\n",
    "        \n",
    "        self._create_weights()\n",
    "        \n",
    "    def _create_weights(self):\n",
    "        for m in self.modules():\n",
    "            if isinstance(m, nn.Linear):\n",
    "                nn.init.xavier_uniform_(m.weight)\n",
    "                nn.init.constant_(m.bias, 0)\n",
    "\n",
    "    def forward(self, x):\n",
    "        x = self.conv1(x)\n",
    "        x = self.conv2(x)\n",
    "        x = self.conv3(x)\n",
    "        x = self.fc(x)\n",
    "        return x"
   ]
  },
  {
   "cell_type": "code",
   "execution_count": 19,
   "metadata": {},
   "outputs": [],
   "source": [
    "def process_state(grid, current_piece, next_piece):\n",
    "    grid = statePreprocess(grid)\n",
    "    # Flatten the grid\n",
    "    flat_grid = grid.reshape(-1).astype(float)  # Convert grid to a flat, float array\n",
    "\n",
    "    # One-hot encode the current and next pieces\n",
    "    current_piece_vector = one_hot_piece(current_piece)\n",
    "    next_piece_vector = one_hot_piece(next_piece)\n",
    "\n",
    "    # Combine the flattened grid and the piece vectors into one state vector\n",
    "    return torch.tensor(np.concatenate([flat_grid, current_piece_vector, next_piece_vector]), dtype=torch.float32)"
   ]
  },
  {
   "cell_type": "code",
   "execution_count": 20,
   "metadata": {},
   "outputs": [],
   "source": [
    "def empty_blocks(grid, height_limit=None):\n",
    "    penalty = 0\n",
    "    grid_height, grid_width = grid.shape\n",
    "    if height_limit is not None:\n",
    "        grid_height = min(grid_height, height_limit)\n",
    "    \n",
    "    for col in range(grid_width):\n",
    "        column = grid[:grid_height, col]\n",
    "        filled = False\n",
    "        local_penalty = 0\n",
    "        for row in reversed(column):  # Start from the bottom of the grid\n",
    "            if row > 0:\n",
    "                filled = True\n",
    "            elif row == 0 and filled:\n",
    "                local_penalty += 1\n",
    "        penalty += local_penalty\n",
    "    \n",
    "    return penalty\n"
   ]
  },
  {
   "cell_type": "code",
   "execution_count": 21,
   "metadata": {},
   "outputs": [],
   "source": [
    "# Initialize the DQN\n",
    "input_dim = 200 + 19 +19  # 200 for the grid, 14 for the one-hot encoded pieces\n",
    "output_dim = len(SIMPLE_MOVEMENT)  # Number of possible actions\n",
    "model = DQN(input_dim, output_dim)\n",
    "model.to(device)\n",
    "\n",
    "# Initialize the optimizer\n",
    "optimizer = optim.Adam(model.parameters(), lr=0.001)\n",
    "\n",
    "# Initialize the replay memory\n",
    "replay_memory = deque(maxlen = 10000)\n",
    "batch_size = 128\n",
    "\n",
    "epsilon = 1.0  # Starting value of epsilon\n",
    "epsilon_min = 0.01  # Minimum value of epsilon\n",
    "epsilon_decay = 0.995  # Decay multiplier for epsilon"
   ]
  },
  {
   "cell_type": "code",
   "execution_count": 22,
   "metadata": {},
   "outputs": [
    {
     "name": "stdout",
     "output_type": "stream",
     "text": [
      "Episode 1, total reward: -238.0\n"
     ]
    },
    {
     "data": {
      "image/png": "[encoded data removed]",
      "text/plain": [
       "<Figure size 640x480 with 1 Axes>"
      ]
     },
     "metadata": {},
     "output_type": "display_data"
    },
    {
     "name": "stdout",
     "output_type": "stream",
     "text": [
      "Episode 2, total reward: -241.0\n",
      "Episode 3, total reward: -242.0\n",
      "Episode 4, total reward: -242.0\n",
      "Episode 5, total reward: -237.0\n",
      "Episode 6, total reward: -313.0\n",
      "Episode 7, total reward: -307.0\n",
      "Episode 8, total reward: -307.0\n",
      "Episode 9, total reward: -234.0\n",
      "Episode 10, total reward: -257.0\n",
      "Episode 11, total reward: -301.0\n",
      "Episode 12, total reward: -240.0\n",
      "Episode 13, total reward: -240.0\n",
      "Episode 14, total reward: -230.0\n",
      "Episode 15, total reward: -275.0\n",
      "Episode 16, total reward: -237.0\n",
      "Episode 17, total reward: -244.0\n",
      "Episode 18, total reward: -256.0\n",
      "Episode 19, total reward: -254.0\n",
      "Episode 20, total reward: -246.0\n",
      "Episode 21, total reward: -246.0\n"
     ]
    },
    {
     "data": {
      "image/png": "[encoded data removed]",
      "text/plain": [
       "<Figure size 640x480 with 1 Axes>"
      ]
     },
     "metadata": {},
     "output_type": "display_data"
    },
    {
     "name": "stdout",
     "output_type": "stream",
     "text": [
      "Episode 22, total reward: -254.0\n",
      "Episode 23, total reward: -253.0\n",
      "Episode 24, total reward: -257.0\n",
      "Episode 25, total reward: -239.0\n",
      "Episode 26, total reward: -247.0\n",
      "Episode 27, total reward: -255.0\n",
      "Episode 28, total reward: -319.0\n",
      "Episode 29, total reward: -252.0\n",
      "Episode 30, total reward: -301.0\n",
      "Episode 31, total reward: -318.0\n",
      "Episode 32, total reward: -299.0\n",
      "Episode 33, total reward: -286.0\n"
     ]
    },
    {
     "ename": "KeyboardInterrupt",
     "evalue": "",
     "output_type": "error",
     "traceback": [
      "\u001b[0;31m---------------------------------------------------------------------------\u001b[0m",
      "\u001b[0;31mKeyboardInterrupt\u001b[0m                         Traceback (most recent call last)",
      "Cell \u001b[0;32mIn[22], line 33\u001b[0m\n\u001b[1;32m     30\u001b[0m     action \u001b[38;5;241m=\u001b[39m torch\u001b[38;5;241m.\u001b[39margmax(q_values)\u001b[38;5;241m.\u001b[39mitem()\n\u001b[1;32m     32\u001b[0m \u001b[38;5;66;03m# Step in the environment\u001b[39;00m\n\u001b[0;32m---> 33\u001b[0m next_state, reward, done, info \u001b[38;5;241m=\u001b[39m \u001b[43menv\u001b[49m\u001b[38;5;241;43m.\u001b[39;49m\u001b[43mstep\u001b[49m\u001b[43m(\u001b[49m\u001b[43maction\u001b[49m\u001b[43m)\u001b[49m\n\u001b[1;32m     34\u001b[0m \u001b[38;5;66;03m#env.render()\u001b[39;00m\n\u001b[1;32m     35\u001b[0m next_current_piece \u001b[38;5;241m=\u001b[39m info[\u001b[38;5;124m'\u001b[39m\u001b[38;5;124mcurrent_piece\u001b[39m\u001b[38;5;124m'\u001b[39m]\n",
      "File \u001b[0;32m~/miniconda3/envs/TetrisRL/lib/python3.10/site-packages/nes_py/wrappers/joypad_space.py:74\u001b[0m, in \u001b[0;36mJoypadSpace.step\u001b[0;34m(self, action)\u001b[0m\n\u001b[1;32m     59\u001b[0m \u001b[38;5;250m\u001b[39m\u001b[38;5;124;03m\"\"\"\u001b[39;00m\n\u001b[1;32m     60\u001b[0m \u001b[38;5;124;03mTake a step using the given action.\u001b[39;00m\n\u001b[1;32m     61\u001b[0m \n\u001b[0;32m   (...)\u001b[0m\n\u001b[1;32m     71\u001b[0m \n\u001b[1;32m     72\u001b[0m \u001b[38;5;124;03m\"\"\"\u001b[39;00m\n\u001b[1;32m     73\u001b[0m \u001b[38;5;66;03m# take the step and record the output\u001b[39;00m\n\u001b[0;32m---> 74\u001b[0m \u001b[38;5;28;01mreturn\u001b[39;00m \u001b[38;5;28;43mself\u001b[39;49m\u001b[38;5;241;43m.\u001b[39;49m\u001b[43menv\u001b[49m\u001b[38;5;241;43m.\u001b[39;49m\u001b[43mstep\u001b[49m\u001b[43m(\u001b[49m\u001b[38;5;28;43mself\u001b[39;49m\u001b[38;5;241;43m.\u001b[39;49m\u001b[43m_action_map\u001b[49m\u001b[43m[\u001b[49m\u001b[43maction\u001b[49m\u001b[43m]\u001b[49m\u001b[43m)\u001b[49m\n",
      "File \u001b[0;32m~/miniconda3/envs/TetrisRL/lib/python3.10/site-packages/gym/wrappers/order_enforcing.py:37\u001b[0m, in \u001b[0;36mOrderEnforcing.step\u001b[0;34m(self, action)\u001b[0m\n\u001b[1;32m     35\u001b[0m \u001b[38;5;28;01mif\u001b[39;00m \u001b[38;5;129;01mnot\u001b[39;00m \u001b[38;5;28mself\u001b[39m\u001b[38;5;241m.\u001b[39m_has_reset:\n\u001b[1;32m     36\u001b[0m     \u001b[38;5;28;01mraise\u001b[39;00m ResetNeeded(\u001b[38;5;124m\"\u001b[39m\u001b[38;5;124mCannot call env.step() before calling env.reset()\u001b[39m\u001b[38;5;124m\"\u001b[39m)\n\u001b[0;32m---> 37\u001b[0m \u001b[38;5;28;01mreturn\u001b[39;00m \u001b[38;5;28;43mself\u001b[39;49m\u001b[38;5;241;43m.\u001b[39;49m\u001b[43menv\u001b[49m\u001b[38;5;241;43m.\u001b[39;49m\u001b[43mstep\u001b[49m\u001b[43m(\u001b[49m\u001b[43maction\u001b[49m\u001b[43m)\u001b[49m\n",
      "File \u001b[0;32m~/miniconda3/envs/TetrisRL/lib/python3.10/site-packages/gym/wrappers/env_checker.py:39\u001b[0m, in \u001b[0;36mPassiveEnvChecker.step\u001b[0;34m(self, action)\u001b[0m\n\u001b[1;32m     37\u001b[0m     \u001b[38;5;28;01mreturn\u001b[39;00m env_step_passive_checker(\u001b[38;5;28mself\u001b[39m\u001b[38;5;241m.\u001b[39menv, action)\n\u001b[1;32m     38\u001b[0m \u001b[38;5;28;01melse\u001b[39;00m:\n\u001b[0;32m---> 39\u001b[0m     \u001b[38;5;28;01mreturn\u001b[39;00m \u001b[38;5;28;43mself\u001b[39;49m\u001b[38;5;241;43m.\u001b[39;49m\u001b[43menv\u001b[49m\u001b[38;5;241;43m.\u001b[39;49m\u001b[43mstep\u001b[49m\u001b[43m(\u001b[49m\u001b[43maction\u001b[49m\u001b[43m)\u001b[49m\n",
      "File \u001b[0;32m~/miniconda3/envs/TetrisRL/lib/python3.10/site-packages/nes_py/nes_env.py:300\u001b[0m, in \u001b[0;36mNESEnv.step\u001b[0;34m(self, action)\u001b[0m\n\u001b[1;32m    298\u001b[0m \u001b[38;5;28mself\u001b[39m\u001b[38;5;241m.\u001b[39mcontrollers[\u001b[38;5;241m0\u001b[39m][:] \u001b[38;5;241m=\u001b[39m action\n\u001b[1;32m    299\u001b[0m \u001b[38;5;66;03m# pass the action to the emulator as an unsigned byte\u001b[39;00m\n\u001b[0;32m--> 300\u001b[0m \u001b[43m_LIB\u001b[49m\u001b[38;5;241;43m.\u001b[39;49m\u001b[43mStep\u001b[49m\u001b[43m(\u001b[49m\u001b[38;5;28;43mself\u001b[39;49m\u001b[38;5;241;43m.\u001b[39;49m\u001b[43m_env\u001b[49m\u001b[43m)\u001b[49m\n\u001b[1;32m    301\u001b[0m \u001b[38;5;66;03m# get the reward for this step\u001b[39;00m\n\u001b[1;32m    302\u001b[0m reward \u001b[38;5;241m=\u001b[39m \u001b[38;5;28mfloat\u001b[39m(\u001b[38;5;28mself\u001b[39m\u001b[38;5;241m.\u001b[39m_get_reward())\n",
      "\u001b[0;31mKeyboardInterrupt\u001b[0m: "
     ]
    }
   ],
   "source": [
    "#number of episodes\n",
    "episodes = 10000\n",
    "\n",
    "env = gym_tetris.make('TetrisA-v3')\n",
    "env = JoypadSpace(env, SIMPLE_MOVEMENT)\n",
    "model.train()\n",
    "\n",
    "episode_rewards = []\n",
    "\n",
    "loss_fn = nn.MSELoss()\n",
    "optimizer = optim.Adam(model.parameters(), lr=0.001)\n",
    "loss_fn = nn.MSELoss()\n",
    "\n",
    "for episode in range(episodes):\n",
    "    state = env.reset()\n",
    "    state, reward, done, info = env.step(0)\n",
    "    current_piece = info['current_piece']\n",
    "    next_piece = info['next_piece']\n",
    "    state = process_state(state, current_piece, next_piece)\n",
    "    total_reward = 0\n",
    "    oldEmptyPanalty = 0\n",
    "    oldClear = 0\n",
    "    oldHeight = 0\n",
    "    while not done:\n",
    "        # Exploration vs Exploitation\n",
    "        if random.random() < epsilon:\n",
    "            action = random.randint(0, 5)\n",
    "        else:\n",
    "            q_values = model(state)\n",
    "            action = torch.argmax(q_values).item()\n",
    "\n",
    "        # Step in the environment\n",
    "        next_state, reward, done, info = env.step(action)\n",
    "        #env.render()\n",
    "        next_current_piece = info['current_piece']\n",
    "        next_next_piece = info['next_piece']\n",
    "        grid = statePreprocess(next_state)\n",
    "        next_state = process_state(next_state, next_current_piece, next_next_piece)\n",
    "        \n",
    "        # Custom reward function\n",
    "        newClear = info['number_of_lines']\n",
    "        clear = newClear - oldClear\n",
    "        newEmptyPanalty = empty_blocks(grid)\n",
    "        difference = newEmptyPanalty - oldEmptyPanalty\n",
    "        \n",
    "        newHeight = info['board_height']\n",
    "        hightDifference = newHeight - oldHeight\n",
    "        \n",
    "        reward = reward + clear * 1000 - difference * 1 - hightDifference * 10\n",
    "        \n",
    "        # Save to replay buffer\n",
    "        replay_memory.append((state, torch.tensor([action]), torch.tensor([reward], dtype=torch.float32),\n",
    "                              next_state, torch.tensor([done], dtype=torch.float32)))\n",
    "        state = next_state\n",
    "        oldEmptyPanalty = newEmptyPanalty\n",
    "        oldHeight = newHeight\n",
    "        oldClear = newClear\n",
    "        \n",
    "        \n",
    "        \n",
    "        # Training from replay buffer\n",
    "        if len(replay_memory) >= batch_size:\n",
    "            batch = random.sample(replay_memory, batch_size)\n",
    "            state_batch, action_batch, reward_batch, next_state_batch, done_batch = map(torch.stack, zip(*batch))\n",
    "            \n",
    "            q_values = model(state_batch)\n",
    "            with torch.no_grad():\n",
    "                next_q_values = model(next_state_batch)\n",
    "            target_q_values = reward_batch + 0.99 * torch.max(next_q_values, dim=1).values * (1 - done_batch)\n",
    "            loss = loss_fn(q_values[range(batch_size), action_batch], target_q_values)\n",
    "            \n",
    "            optimizer.zero_grad()\n",
    "            loss.backward()\n",
    "            optimizer.step()\n",
    "            \n",
    "        \n",
    "        epsilon = max(epsilon_min, epsilon_decay * epsilon)\n",
    "        total_reward += reward\n",
    "    episode_rewards.append(total_reward)\n",
    "    print(f'Episode {episode + 1}, total reward: {total_reward}')\n",
    "        \n",
    "    if episode % 20 == 0:\n",
    "        torch.save(model.state_dict(), 'model.pth')\n",
    "        plt.plot(episode_rewards)\n",
    "        plt.show()\n",
    "    \n"
   ]
  }
 ],
 "metadata": {
  "kernelspec": {
   "display_name": "TetrisRL",
   "language": "python",
   "name": "python3"
  },
  "language_info": {
   "codemirror_mode": {
    "name": "ipython",
    "version": 3
   },
   "file_extension": ".py",
   "mimetype": "text/x-python",
   "name": "python",
   "nbconvert_exporter": "python",
   "pygments_lexer": "ipython3",
   "version": "3.10.0"
  }
 },
 "nbformat": 4,
 "nbformat_minor": 2
}
